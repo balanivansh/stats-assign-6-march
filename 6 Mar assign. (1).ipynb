{
 "cells": [
  {
   "cell_type": "markdown",
   "id": "c213605e-fe92-4e6a-ad37-c866d73da292",
   "metadata": {},
   "source": [
    " 1. STATISTICS is the process of collecting, organizing and analyzing data.\n",
    "       Data Scientists use statistics to gather,review,analyze and draw conclusions from data. "
   ]
  },
  {
   "cell_type": "markdown",
   "id": "e5b18d53-f92c-4d07-951c-4f1d9b12d0a2",
   "metadata": {},
   "source": [
    " 2. There are two types of statistics :\n",
    " 1) Descriptive statistics : It consists of organizing and summarizing data. \n",
    " It includes Measures of cental tendency, Measures of dispersion, Types of distributin of data.\n",
    " example - average height of students in entire classroom.\n",
    " 2) Inferential statistics : It consists of data you have measured to form conclusions.\n",
    " It includes Z-test, T-test, CHI sq. "
   ]
  },
  {
   "cell_type": "markdown",
   "id": "20e8cde4-d3a4-4fce-ac16-23b5c60eb33a",
   "metadata": {},
   "source": [
    " 3. Mainly there are two types of data : Quantitative and Qualitative\n",
    "1) Quantitative data : consists of two types -> a) Discrete: which includes whole no. like number of Bank A/c of a person\n",
    "  b) continuous- which include any value like height,weight,temperature.\n",
    "2) Qualitative data : consists of two types -> a) Nominal: which includes label variables without any quantitative value or Rank, like male/female, name of a person.\n",
    "  b) Ordinal- which includes Qualitative data with Rank like customer feedback(good/ok/bad). \n",
    "  "
   ]
  },
  {
   "cell_type": "markdown",
   "id": "7703c33a-78a1-4716-8a18-a223eaf1e1cf",
   "metadata": {},
   "source": [
    "    4.  (i) Qualitative\n",
    "        (ii) Qualitative\n",
    "        (iii) Quantitative\n",
    "        (iv) Quantitative \n"
   ]
  },
  {
   "cell_type": "markdown",
   "id": "9bca27ab-77f4-473b-a3ab-0c2f412bb9c8",
   "metadata": {},
   "source": [
    " 5. LEVELS OF MEASUREMENT\n",
    "  1) Normal scale data- It contains Quantitative or categorial data in which order doesn't matter.\n",
    "  e.g. gender, favorate color\n",
    "  2) Ordinal scale data- where Ranking is important, order matters and difference between two data set can not be measured\n",
    "  e.g. ranking monday to friday for an employee, feedback by a customer(good,ok,bad)\n",
    "  3) Interval scale data- here, order matters, difference can be measured, but ratio can't be measured and no \"zero\" starting point.\n",
    "  e.g. temperature scale of degree Fahrenheit: 30*F and 60*F can not be said in ratio 1:2 .\n",
    "  4) Ratio scale data- order matters, difference are measurable including Ratio, has a \"zero\" starting point.\n",
    "  e.g. marks of all students in a class test (0 to 100). "
   ]
  },
  {
   "cell_type": "markdown",
   "id": "d86df3b0-14f2-41e9-9ba4-9336d641c823",
   "metadata": {},
   "source": [
    " 6. The levels of measurement help us determine what statistical technique is appropriate to use.\n",
    "For example, if the level of measurement of your variable is nominal (the least precise and informative variable),\n",
    "you can use mode to summarize your variable, but not median or mean. \n"
   ]
  },
  {
   "cell_type": "markdown",
   "id": "f0197e14-a771-4acd-b0e4-4cba089eef8a",
   "metadata": {},
   "source": [
    " 7. The main difference between Nominal and Ordial data type is Ranking. \n",
    " In nominal data order does not matter like gender(male/female), bloodgroup.\n",
    " whereas in Ordinal data Rank id important e.g. customer feedback for an order (bad/good/great) ."
   ]
  },
  {
   "cell_type": "markdown",
   "id": "a4b4b300-22ed-4a08-aac7-bcfad1ba12d2",
   "metadata": {},
   "source": [
    " 8. Histogram "
   ]
  },
  {
   "cell_type": "markdown",
   "id": "6bc4d507-3d07-4a95-94af-1e36642fe7a6",
   "metadata": {},
   "source": [
    " 9. Descriptive statistics : It consists of organizing and summarizing data. \n",
    " It includes Measures of cental tendency, Measures of dispersion, Types of distributin of data.\n",
    " example - average height of students in entire classroom.\n",
    "  Inferential statistics : It consists of data you have measured to form conclusions, make Hypothesis and predictions.\n",
    " It includes Z-test, T-test, CHI sq. "
   ]
  },
  {
   "cell_type": "markdown",
   "id": "14c57745-7bb7-4d96-8ad1-436047089df3",
   "metadata": {},
   "source": [
    " 10. Measures of central tendency :\n",
    "1) Mean: generally used when data distribution is continuous and symmertric.\n",
    " e.g. average height of student in a class of 10 students.\n",
    "2) Median: used to find central tendency when Outliers is present\n",
    "e.g. average income of a country like India.\n",
    "3) Mode: defines maximum frequency in an event.\n",
    "e.g. which fruit is maximum in a basket. \n",
    "Measures of Variability-\n",
    "1) Range: the difference between the highest and lowest values.\n",
    "e.g. number of students in a classroom.\n",
    "2) Interquartile range: the range of the middle half of a distribution.\n",
    "e.g. number of students having score between 50 to 80 marks.\n",
    "3) Standard deviation: average distance from the mean.\n",
    "e.g. mean of height is 5ft'9 so students 3 inches above and below mean are..\n",
    "4) Variance: average of squared distances from the mean. \n",
    "e.g. mean of height is 5ft'9 so students root(3) inches above and below mean are.. \n",
    "\n"
   ]
  },
  {
   "cell_type": "code",
   "execution_count": null,
   "id": "b6454ecf-4577-473c-a009-69d6bfd6c2e5",
   "metadata": {},
   "outputs": [],
   "source": []
  }
 ],
 "metadata": {
  "kernelspec": {
   "display_name": "Python 3 (ipykernel)",
   "language": "python",
   "name": "python3"
  },
  "language_info": {
   "codemirror_mode": {
    "name": "ipython",
    "version": 3
   },
   "file_extension": ".py",
   "mimetype": "text/x-python",
   "name": "python",
   "nbconvert_exporter": "python",
   "pygments_lexer": "ipython3",
   "version": "3.10.8"
  }
 },
 "nbformat": 4,
 "nbformat_minor": 5
}
